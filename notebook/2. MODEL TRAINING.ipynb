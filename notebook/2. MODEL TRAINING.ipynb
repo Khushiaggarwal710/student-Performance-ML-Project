{
 "cells": [
  {
   "cell_type": "markdown",
   "id": "1d1e0a42-c0e9-4322-8268-ef6e6eb93cdf",
   "metadata": {},
   "source": [
    "#### Import modules"
   ]
  },
  {
   "cell_type": "code",
   "execution_count": 159,
   "id": "545cdb43-8b9a-45f8-8d0e-7a1047b7aa22",
   "metadata": {},
   "outputs": [],
   "source": [
    "# Basic Import\n",
    "import numpy as np\n",
    "import pandas as pd\n",
    "import matplotlib.pyplot as plt \n",
    "import seaborn as sns\n",
    "# Modelling\n",
    "from sklearn.preprocessing import OneHotEncoder, StandardScaler, OrdinalEncoder\n",
    "from sklearn.pipeline import Pipeline\n",
    "from sklearn.compose import ColumnTransformer\n",
    "from sklearn.model_selection import train_test_split, GridSearchCV\n",
    "from sklearn.linear_model import LinearRegression, Lasso, Ridge\n",
    "from sklearn.svm import SVR\n",
    "from sklearn.tree import DecisionTreeRegressor\n",
    "from sklearn.ensemble import RandomForestRegressor\n",
    "from sklearn.metrics import r2_score\n",
    "from sklearn.impute import SimpleImputer"
   ]
  },
  {
   "cell_type": "markdown",
   "id": "42781fae-6390-4284-a8fe-8d4d705ab51d",
   "metadata": {},
   "source": [
    "#### Import dataset"
   ]
  },
  {
   "cell_type": "code",
   "execution_count": 160,
   "id": "8f8daf2a-9948-4ba8-8e87-fc55296d6b38",
   "metadata": {},
   "outputs": [
    {
     "data": {
      "text/html": [
       "<div>\n",
       "<style scoped>\n",
       "    .dataframe tbody tr th:only-of-type {\n",
       "        vertical-align: middle;\n",
       "    }\n",
       "\n",
       "    .dataframe tbody tr th {\n",
       "        vertical-align: top;\n",
       "    }\n",
       "\n",
       "    .dataframe thead th {\n",
       "        text-align: right;\n",
       "    }\n",
       "</style>\n",
       "<table border=\"1\" class=\"dataframe\">\n",
       "  <thead>\n",
       "    <tr style=\"text-align: right;\">\n",
       "      <th></th>\n",
       "      <th>gender</th>\n",
       "      <th>race_ethnicity</th>\n",
       "      <th>parental_level_of_education</th>\n",
       "      <th>lunch</th>\n",
       "      <th>test_preparation_course</th>\n",
       "      <th>math_score</th>\n",
       "      <th>reading_score</th>\n",
       "      <th>writing_score</th>\n",
       "    </tr>\n",
       "  </thead>\n",
       "  <tbody>\n",
       "    <tr>\n",
       "      <th>0</th>\n",
       "      <td>female</td>\n",
       "      <td>group B</td>\n",
       "      <td>bachelor's degree</td>\n",
       "      <td>standard</td>\n",
       "      <td>none</td>\n",
       "      <td>72</td>\n",
       "      <td>72</td>\n",
       "      <td>74</td>\n",
       "    </tr>\n",
       "    <tr>\n",
       "      <th>1</th>\n",
       "      <td>female</td>\n",
       "      <td>group C</td>\n",
       "      <td>some college</td>\n",
       "      <td>standard</td>\n",
       "      <td>completed</td>\n",
       "      <td>69</td>\n",
       "      <td>90</td>\n",
       "      <td>88</td>\n",
       "    </tr>\n",
       "    <tr>\n",
       "      <th>2</th>\n",
       "      <td>female</td>\n",
       "      <td>group B</td>\n",
       "      <td>master's degree</td>\n",
       "      <td>standard</td>\n",
       "      <td>none</td>\n",
       "      <td>90</td>\n",
       "      <td>95</td>\n",
       "      <td>93</td>\n",
       "    </tr>\n",
       "    <tr>\n",
       "      <th>3</th>\n",
       "      <td>male</td>\n",
       "      <td>group A</td>\n",
       "      <td>associate's degree</td>\n",
       "      <td>free/reduced</td>\n",
       "      <td>none</td>\n",
       "      <td>47</td>\n",
       "      <td>57</td>\n",
       "      <td>44</td>\n",
       "    </tr>\n",
       "    <tr>\n",
       "      <th>4</th>\n",
       "      <td>male</td>\n",
       "      <td>group C</td>\n",
       "      <td>some college</td>\n",
       "      <td>standard</td>\n",
       "      <td>none</td>\n",
       "      <td>76</td>\n",
       "      <td>78</td>\n",
       "      <td>75</td>\n",
       "    </tr>\n",
       "  </tbody>\n",
       "</table>\n",
       "</div>"
      ],
      "text/plain": [
       "   gender race_ethnicity parental_level_of_education         lunch  \\\n",
       "0  female        group B           bachelor's degree      standard   \n",
       "1  female        group C                some college      standard   \n",
       "2  female        group B             master's degree      standard   \n",
       "3    male        group A          associate's degree  free/reduced   \n",
       "4    male        group C                some college      standard   \n",
       "\n",
       "  test_preparation_course  math_score  reading_score  writing_score  \n",
       "0                    none          72             72             74  \n",
       "1               completed          69             90             88  \n",
       "2                    none          90             95             93  \n",
       "3                    none          47             57             44  \n",
       "4                    none          76             78             75  "
      ]
     },
     "execution_count": 160,
     "metadata": {},
     "output_type": "execute_result"
    }
   ],
   "source": [
    "df = pd.read_csv('data/stud.csv')\n",
    "df.head()"
   ]
  },
  {
   "cell_type": "code",
   "execution_count": 161,
   "id": "6e682023-099c-4633-88c1-02b49afb1952",
   "metadata": {},
   "outputs": [
    {
     "data": {
      "text/plain": [
       "Index(['gender', 'race_ethnicity', 'parental_level_of_education', 'lunch',\n",
       "       'test_preparation_course', 'math_score', 'reading_score',\n",
       "       'writing_score'],\n",
       "      dtype='object')"
      ]
     },
     "execution_count": 161,
     "metadata": {},
     "output_type": "execute_result"
    }
   ],
   "source": [
    "df.columns"
   ]
  },
  {
   "cell_type": "markdown",
   "id": "90c672a2-cd84-49e3-b625-b12c3150a217",
   "metadata": {},
   "source": [
    "#### X & y in dataframe"
   ]
  },
  {
   "cell_type": "code",
   "execution_count": 162,
   "id": "0222e5ac-5ca4-41ce-97e9-79d5f9c6ab62",
   "metadata": {},
   "outputs": [
    {
     "name": "stdout",
     "output_type": "stream",
     "text": [
      "Shape of X is (1000, 7)\n",
      "Shape of y is (1000,)\n"
     ]
    }
   ],
   "source": [
    "X = df.drop('math_score',axis=1)\n",
    "y = df['math_score']\n",
    "print(f'Shape of X is {X.shape}')\n",
    "print(f'Shape of y is {y.shape}')"
   ]
  },
  {
   "cell_type": "markdown",
   "id": "358c109a-4b6c-4303-a513-a5761449728c",
   "metadata": {},
   "source": [
    "#### Numerical and categorical variables in X"
   ]
  },
  {
   "cell_type": "code",
   "execution_count": 163,
   "id": "307a72af-abbc-4837-9535-a017e95f1466",
   "metadata": {},
   "outputs": [
    {
     "data": {
      "text/plain": [
       "['reading_score', 'writing_score']"
      ]
     },
     "execution_count": 163,
     "metadata": {},
     "output_type": "execute_result"
    }
   ],
   "source": [
    "numerical_columns = X.select_dtypes(exclude='O').columns.tolist()\n",
    "numerical_columns"
   ]
  },
  {
   "cell_type": "code",
   "execution_count": 164,
   "id": "4ff1cc0f-a0ee-40fd-9e21-a356e406f5cb",
   "metadata": {
    "scrolled": true
   },
   "outputs": [
    {
     "data": {
      "text/plain": [
       "['gender',\n",
       " 'race_ethnicity',\n",
       " 'parental_level_of_education',\n",
       " 'lunch',\n",
       " 'test_preparation_course']"
      ]
     },
     "execution_count": 164,
     "metadata": {},
     "output_type": "execute_result"
    }
   ],
   "source": [
    "categorical_columns_oneHotEnc = X.select_dtypes(include='O').columns.tolist() \n",
    "categorical_columns_oneHotEnc"
   ]
  },
  {
   "cell_type": "code",
   "execution_count": 165,
   "id": "482f759b",
   "metadata": {},
   "outputs": [
    {
     "data": {
      "text/plain": [
       "['gender', 'race_ethnicity', 'lunch', 'test_preparation_course']"
      ]
     },
     "execution_count": 165,
     "metadata": {},
     "output_type": "execute_result"
    }
   ],
   "source": [
    "categorical_columns_oneHotEnc.remove('parental_level_of_education')\n",
    "categorical_columns_oneHotEnc"
   ]
  },
  {
   "cell_type": "markdown",
   "id": "eab50bce-e78c-468a-bbc3-ff2a5234994b",
   "metadata": {},
   "source": [
    "#### One-Hot Encoding, Ordinal Encoding & Standard Scaling"
   ]
  },
  {
   "cell_type": "code",
   "execution_count": 166,
   "id": "bb3c0bec",
   "metadata": {},
   "outputs": [],
   "source": [
    "categorical_columns_ordEnc = ['parental_level_of_education']\n",
    "\n",
    "categories = [['some high school', \n",
    "            'high school',\n",
    "            'some college',\n",
    "            \"associate's degree\",\n",
    "            \"bachelor's degree\",\n",
    "            \"master's degree\"]]\n",
    "\n",
    "# create pipeline for num and cat columns\n",
    "num_pipeline = Pipeline(\n",
    "steps = [\n",
    "    (\"imputer\",SimpleImputer(strategy=\"median\")),\n",
    "    (\"scaler\",StandardScaler())\n",
    "]\n",
    ")\n",
    "\n",
    "cat_pipeline_oneHotEnc = Pipeline(\n",
    "steps = [\n",
    "    (\"imputer\",SimpleImputer(strategy=\"most_frequent\")),\n",
    "    (\"oneHotEnc\",OneHotEncoder(sparse=False,drop=\"first\")),\n",
    "    (\"scaler\",StandardScaler(with_mean=False))\n",
    "]\n",
    ")\n",
    "\n",
    "cat_pipeline_ordEnc = Pipeline(\n",
    "steps = [\n",
    "    (\"imputer\",SimpleImputer(strategy=\"most_frequent\")),\n",
    "    (\"ordenc\",OrdinalEncoder(categories=categories)),\n",
    "    (\"scaler\",StandardScaler(with_mean=False))\n",
    "]\n",
    ")\n",
    "\n",
    "# ColumnTransformer for above pipeline\n",
    "preprocessor = ColumnTransformer(\n",
    "[\n",
    "    (\"num_pipeline\",num_pipeline,numerical_columns),\n",
    "    (\"cat_pipeline_oneHotEnc\",cat_pipeline_oneHotEnc,categorical_columns_oneHotEnc),\n",
    "    (\"cat_pipeline_ordEnc\",cat_pipeline_ordEnc,categorical_columns_ordEnc)\n",
    "]\n",
    ")\n"
   ]
  },
  {
   "cell_type": "code",
   "execution_count": 167,
   "id": "f304bb71-ff65-471c-ac21-014389986121",
   "metadata": {},
   "outputs": [],
   "source": [
    "X_trans = preprocessor.fit_transform(X)"
   ]
  },
  {
   "cell_type": "code",
   "execution_count": 168,
   "id": "18de7cb5-5d5a-413b-a8b8-54a29716c92e",
   "metadata": {},
   "outputs": [
    {
     "data": {
      "text/plain": [
       "(1000, 10)"
      ]
     },
     "execution_count": 168,
     "metadata": {},
     "output_type": "execute_result"
    }
   ],
   "source": [
    "X_trans.shape"
   ]
  },
  {
   "cell_type": "code",
   "execution_count": 169,
   "id": "e884001e",
   "metadata": {
    "scrolled": false
   },
   "outputs": [
    {
     "data": {
      "text/plain": [
       "['gender_male',\n",
       " 'race_ethnicity_group B',\n",
       " 'race_ethnicity_group C',\n",
       " 'race_ethnicity_group D',\n",
       " 'race_ethnicity_group E',\n",
       " 'lunch_standard',\n",
       " 'test_preparation_course_none']"
      ]
     },
     "execution_count": 169,
     "metadata": {},
     "output_type": "execute_result"
    }
   ],
   "source": [
    "cat_var_trans =preprocessor.named_transformers_['cat_pipeline_oneHotEnc'].named_steps[\"oneHotEnc\"].get_feature_names_out(categorical_columns_oneHotEnc)\n",
    "cat_var_trans = cat_var_trans.tolist()\n",
    "cat_var_trans"
   ]
  },
  {
   "cell_type": "markdown",
   "id": "7a63fee2-f555-4b4b-af6e-3f4a338f79a5",
   "metadata": {},
   "source": [
    "#### Getting mean & std for pipeline"
   ]
  },
  {
   "cell_type": "code",
   "execution_count": 170,
   "id": "3bb96478-2260-4b9e-9150-7c3c96f1aa6c",
   "metadata": {},
   "outputs": [
    {
     "data": {
      "text/plain": [
       "array([69.169, 68.054])"
      ]
     },
     "execution_count": 170,
     "metadata": {},
     "output_type": "execute_result"
    }
   ],
   "source": [
    "preprocessor.named_transformers_['num_pipeline'].named_steps[\"scaler\"].mean_"
   ]
  },
  {
   "cell_type": "code",
   "execution_count": 171,
   "id": "3bf22652-b906-4353-a922-a080956f2924",
   "metadata": {},
   "outputs": [
    {
     "data": {
      "text/plain": [
       "array([14.59289002, 15.18805728])"
      ]
     },
     "execution_count": 171,
     "metadata": {},
     "output_type": "execute_result"
    }
   ],
   "source": [
    "preprocessor.named_transformers_['num_pipeline'].named_steps[\"scaler\"].scale_"
   ]
  },
  {
   "cell_type": "markdown",
   "id": "f7181e21-5202-4436-b9fb-2e8036d7e3c5",
   "metadata": {},
   "source": [
    "#### Back to df"
   ]
  },
  {
   "cell_type": "code",
   "execution_count": 172,
   "id": "cf148e2e-e73e-4f82-953f-cf5560a04ef8",
   "metadata": {},
   "outputs": [
    {
     "data": {
      "text/plain": [
       "['reading_score',\n",
       " 'writing_score',\n",
       " 'gender_male',\n",
       " 'race_ethnicity_group B',\n",
       " 'race_ethnicity_group C',\n",
       " 'race_ethnicity_group D',\n",
       " 'race_ethnicity_group E',\n",
       " 'lunch_standard',\n",
       " 'test_preparation_course_none',\n",
       " 'parental_level_of_education']"
      ]
     },
     "execution_count": 172,
     "metadata": {},
     "output_type": "execute_result"
    }
   ],
   "source": [
    "features = numerical_columns + cat_var_trans + categorical_columns_ordEnc\n",
    "features"
   ]
  },
  {
   "cell_type": "code",
   "execution_count": 173,
   "id": "45417d98-4fa8-4b6c-9323-b8c418e7021e",
   "metadata": {},
   "outputs": [
    {
     "data": {
      "text/plain": [
       "(1000, 10)"
      ]
     },
     "execution_count": 173,
     "metadata": {},
     "output_type": "execute_result"
    }
   ],
   "source": [
    "X_trans = pd.DataFrame(X_trans,columns=features)\n",
    "X_trans.shape"
   ]
  },
  {
   "cell_type": "code",
   "execution_count": 174,
   "id": "e50c607f-6ab7-4242-8664-8ef153975fb9",
   "metadata": {
    "scrolled": true
   },
   "outputs": [
    {
     "data": {
      "text/html": [
       "<div>\n",
       "<style scoped>\n",
       "    .dataframe tbody tr th:only-of-type {\n",
       "        vertical-align: middle;\n",
       "    }\n",
       "\n",
       "    .dataframe tbody tr th {\n",
       "        vertical-align: top;\n",
       "    }\n",
       "\n",
       "    .dataframe thead th {\n",
       "        text-align: right;\n",
       "    }\n",
       "</style>\n",
       "<table border=\"1\" class=\"dataframe\">\n",
       "  <thead>\n",
       "    <tr style=\"text-align: right;\">\n",
       "      <th></th>\n",
       "      <th>reading_score</th>\n",
       "      <th>writing_score</th>\n",
       "      <th>gender_male</th>\n",
       "      <th>race_ethnicity_group B</th>\n",
       "      <th>race_ethnicity_group C</th>\n",
       "      <th>race_ethnicity_group D</th>\n",
       "      <th>race_ethnicity_group E</th>\n",
       "      <th>lunch_standard</th>\n",
       "      <th>test_preparation_course_none</th>\n",
       "      <th>parental_level_of_education</th>\n",
       "    </tr>\n",
       "  </thead>\n",
       "  <tbody>\n",
       "    <tr>\n",
       "      <th>0</th>\n",
       "      <td>0.193999</td>\n",
       "      <td>0.391492</td>\n",
       "      <td>0.000000</td>\n",
       "      <td>2.549064</td>\n",
       "      <td>0.000000</td>\n",
       "      <td>0.0</td>\n",
       "      <td>0.0</td>\n",
       "      <td>2.089806</td>\n",
       "      <td>2.085888</td>\n",
       "      <td>2.740472</td>\n",
       "    </tr>\n",
       "    <tr>\n",
       "      <th>1</th>\n",
       "      <td>1.427476</td>\n",
       "      <td>1.313269</td>\n",
       "      <td>0.000000</td>\n",
       "      <td>0.000000</td>\n",
       "      <td>2.145513</td>\n",
       "      <td>0.0</td>\n",
       "      <td>0.0</td>\n",
       "      <td>2.089806</td>\n",
       "      <td>0.000000</td>\n",
       "      <td>1.370236</td>\n",
       "    </tr>\n",
       "    <tr>\n",
       "      <th>2</th>\n",
       "      <td>1.770109</td>\n",
       "      <td>1.642475</td>\n",
       "      <td>0.000000</td>\n",
       "      <td>2.549064</td>\n",
       "      <td>0.000000</td>\n",
       "      <td>0.0</td>\n",
       "      <td>0.0</td>\n",
       "      <td>2.089806</td>\n",
       "      <td>2.085888</td>\n",
       "      <td>3.425591</td>\n",
       "    </tr>\n",
       "    <tr>\n",
       "      <th>3</th>\n",
       "      <td>-0.833899</td>\n",
       "      <td>-1.583744</td>\n",
       "      <td>2.001297</td>\n",
       "      <td>0.000000</td>\n",
       "      <td>0.000000</td>\n",
       "      <td>0.0</td>\n",
       "      <td>0.0</td>\n",
       "      <td>0.000000</td>\n",
       "      <td>2.085888</td>\n",
       "      <td>2.055354</td>\n",
       "    </tr>\n",
       "    <tr>\n",
       "      <th>4</th>\n",
       "      <td>0.605158</td>\n",
       "      <td>0.457333</td>\n",
       "      <td>2.001297</td>\n",
       "      <td>0.000000</td>\n",
       "      <td>2.145513</td>\n",
       "      <td>0.0</td>\n",
       "      <td>0.0</td>\n",
       "      <td>2.089806</td>\n",
       "      <td>2.085888</td>\n",
       "      <td>1.370236</td>\n",
       "    </tr>\n",
       "  </tbody>\n",
       "</table>\n",
       "</div>"
      ],
      "text/plain": [
       "   reading_score  writing_score  gender_male  race_ethnicity_group B  \\\n",
       "0       0.193999       0.391492     0.000000                2.549064   \n",
       "1       1.427476       1.313269     0.000000                0.000000   \n",
       "2       1.770109       1.642475     0.000000                2.549064   \n",
       "3      -0.833899      -1.583744     2.001297                0.000000   \n",
       "4       0.605158       0.457333     2.001297                0.000000   \n",
       "\n",
       "   race_ethnicity_group C  race_ethnicity_group D  race_ethnicity_group E  \\\n",
       "0                0.000000                     0.0                     0.0   \n",
       "1                2.145513                     0.0                     0.0   \n",
       "2                0.000000                     0.0                     0.0   \n",
       "3                0.000000                     0.0                     0.0   \n",
       "4                2.145513                     0.0                     0.0   \n",
       "\n",
       "   lunch_standard  test_preparation_course_none  parental_level_of_education  \n",
       "0        2.089806                      2.085888                     2.740472  \n",
       "1        2.089806                      0.000000                     1.370236  \n",
       "2        2.089806                      2.085888                     3.425591  \n",
       "3        0.000000                      2.085888                     2.055354  \n",
       "4        2.089806                      2.085888                     1.370236  "
      ]
     },
     "execution_count": 174,
     "metadata": {},
     "output_type": "execute_result"
    }
   ],
   "source": [
    "X_trans.head()"
   ]
  },
  {
   "cell_type": "markdown",
   "id": "2d035697-6c57-4e37-bda8-55187a71018c",
   "metadata": {},
   "source": [
    "The dataset is ready to be trained."
   ]
  },
  {
   "cell_type": "markdown",
   "id": "ec577904-494e-469b-ba4a-10db692277bb",
   "metadata": {},
   "source": [
    "#### Train test split"
   ]
  },
  {
   "cell_type": "code",
   "execution_count": 175,
   "id": "b84b2441-5f0d-4040-8140-e19940e1384a",
   "metadata": {},
   "outputs": [
    {
     "name": "stdout",
     "output_type": "stream",
     "text": [
      "(1000, 10) & (1000,)\n"
     ]
    }
   ],
   "source": [
    "print(f'{X_trans.shape} & {y.shape}')"
   ]
  },
  {
   "cell_type": "code",
   "execution_count": 176,
   "id": "6d5a6574-7cf0-4ddc-8bae-16b484421433",
   "metadata": {},
   "outputs": [],
   "source": [
    "X_train, X_test, y_train, y_test = train_test_split(X_trans,y,test_size=0.2,random_state=42)"
   ]
  },
  {
   "cell_type": "code",
   "execution_count": 177,
   "id": "87859a41-5ffb-4019-8330-62e837be6087",
   "metadata": {},
   "outputs": [
    {
     "name": "stdout",
     "output_type": "stream",
     "text": [
      "Shape for X_train is (800, 10)\n",
      "Shape for X_test is (200, 10)\n",
      "Shape for y_train is (800,)\n",
      "Shape for y_test is (200,)\n"
     ]
    }
   ],
   "source": [
    "print(f'Shape for X_train is {X_train.shape}')\n",
    "print(f'Shape for X_test is {X_test.shape}')\n",
    "print(f'Shape for y_train is {y_train.shape}')\n",
    "print(f'Shape for y_test is {y_test.shape}')"
   ]
  },
  {
   "cell_type": "code",
   "execution_count": 178,
   "id": "b1eab4fb-6dd7-4bcb-a563-a03d9249689e",
   "metadata": {},
   "outputs": [
    {
     "data": {
      "text/html": [
       "<div>\n",
       "<style scoped>\n",
       "    .dataframe tbody tr th:only-of-type {\n",
       "        vertical-align: middle;\n",
       "    }\n",
       "\n",
       "    .dataframe tbody tr th {\n",
       "        vertical-align: top;\n",
       "    }\n",
       "\n",
       "    .dataframe thead th {\n",
       "        text-align: right;\n",
       "    }\n",
       "</style>\n",
       "<table border=\"1\" class=\"dataframe\">\n",
       "  <thead>\n",
       "    <tr style=\"text-align: right;\">\n",
       "      <th></th>\n",
       "      <th>reading_score</th>\n",
       "      <th>writing_score</th>\n",
       "      <th>gender_male</th>\n",
       "      <th>race_ethnicity_group B</th>\n",
       "      <th>race_ethnicity_group C</th>\n",
       "      <th>race_ethnicity_group D</th>\n",
       "      <th>race_ethnicity_group E</th>\n",
       "      <th>lunch_standard</th>\n",
       "      <th>test_preparation_course_none</th>\n",
       "      <th>parental_level_of_education</th>\n",
       "    </tr>\n",
       "  </thead>\n",
       "  <tbody>\n",
       "    <tr>\n",
       "      <th>29</th>\n",
       "      <td>0.056946</td>\n",
       "      <td>0.457333</td>\n",
       "      <td>0.000000</td>\n",
       "      <td>0.0</td>\n",
       "      <td>0.000000</td>\n",
       "      <td>2.274161</td>\n",
       "      <td>0.000000</td>\n",
       "      <td>2.089806</td>\n",
       "      <td>2.085888</td>\n",
       "      <td>3.425591</td>\n",
       "    </tr>\n",
       "    <tr>\n",
       "      <th>535</th>\n",
       "      <td>0.947790</td>\n",
       "      <td>0.984063</td>\n",
       "      <td>0.000000</td>\n",
       "      <td>0.0</td>\n",
       "      <td>2.145513</td>\n",
       "      <td>0.000000</td>\n",
       "      <td>0.000000</td>\n",
       "      <td>0.000000</td>\n",
       "      <td>0.000000</td>\n",
       "      <td>2.740472</td>\n",
       "    </tr>\n",
       "    <tr>\n",
       "      <th>695</th>\n",
       "      <td>1.358949</td>\n",
       "      <td>1.181586</td>\n",
       "      <td>0.000000</td>\n",
       "      <td>0.0</td>\n",
       "      <td>0.000000</td>\n",
       "      <td>2.274161</td>\n",
       "      <td>0.000000</td>\n",
       "      <td>0.000000</td>\n",
       "      <td>2.085888</td>\n",
       "      <td>1.370236</td>\n",
       "    </tr>\n",
       "    <tr>\n",
       "      <th>557</th>\n",
       "      <td>-0.148634</td>\n",
       "      <td>-0.135238</td>\n",
       "      <td>2.001297</td>\n",
       "      <td>0.0</td>\n",
       "      <td>2.145513</td>\n",
       "      <td>0.000000</td>\n",
       "      <td>0.000000</td>\n",
       "      <td>0.000000</td>\n",
       "      <td>2.085888</td>\n",
       "      <td>3.425591</td>\n",
       "    </tr>\n",
       "    <tr>\n",
       "      <th>836</th>\n",
       "      <td>-0.354214</td>\n",
       "      <td>-0.727809</td>\n",
       "      <td>2.001297</td>\n",
       "      <td>0.0</td>\n",
       "      <td>0.000000</td>\n",
       "      <td>0.000000</td>\n",
       "      <td>2.881952</td>\n",
       "      <td>2.089806</td>\n",
       "      <td>2.085888</td>\n",
       "      <td>0.685118</td>\n",
       "    </tr>\n",
       "  </tbody>\n",
       "</table>\n",
       "</div>"
      ],
      "text/plain": [
       "     reading_score  writing_score  gender_male  race_ethnicity_group B  \\\n",
       "29        0.056946       0.457333     0.000000                     0.0   \n",
       "535       0.947790       0.984063     0.000000                     0.0   \n",
       "695       1.358949       1.181586     0.000000                     0.0   \n",
       "557      -0.148634      -0.135238     2.001297                     0.0   \n",
       "836      -0.354214      -0.727809     2.001297                     0.0   \n",
       "\n",
       "     race_ethnicity_group C  race_ethnicity_group D  race_ethnicity_group E  \\\n",
       "29                 0.000000                2.274161                0.000000   \n",
       "535                2.145513                0.000000                0.000000   \n",
       "695                0.000000                2.274161                0.000000   \n",
       "557                2.145513                0.000000                0.000000   \n",
       "836                0.000000                0.000000                2.881952   \n",
       "\n",
       "     lunch_standard  test_preparation_course_none  parental_level_of_education  \n",
       "29         2.089806                      2.085888                     3.425591  \n",
       "535        0.000000                      0.000000                     2.740472  \n",
       "695        0.000000                      2.085888                     1.370236  \n",
       "557        0.000000                      2.085888                     3.425591  \n",
       "836        2.089806                      2.085888                     0.685118  "
      ]
     },
     "execution_count": 178,
     "metadata": {},
     "output_type": "execute_result"
    }
   ],
   "source": [
    "X_train.head()"
   ]
  },
  {
   "cell_type": "code",
   "execution_count": 179,
   "id": "9c288c4f-f59f-483f-b9bc-a83c2df9aa47",
   "metadata": {},
   "outputs": [
    {
     "data": {
      "text/html": [
       "<div>\n",
       "<style scoped>\n",
       "    .dataframe tbody tr th:only-of-type {\n",
       "        vertical-align: middle;\n",
       "    }\n",
       "\n",
       "    .dataframe tbody tr th {\n",
       "        vertical-align: top;\n",
       "    }\n",
       "\n",
       "    .dataframe thead th {\n",
       "        text-align: right;\n",
       "    }\n",
       "</style>\n",
       "<table border=\"1\" class=\"dataframe\">\n",
       "  <thead>\n",
       "    <tr style=\"text-align: right;\">\n",
       "      <th></th>\n",
       "      <th>reading_score</th>\n",
       "      <th>writing_score</th>\n",
       "      <th>gender_male</th>\n",
       "      <th>race_ethnicity_group B</th>\n",
       "      <th>race_ethnicity_group C</th>\n",
       "      <th>race_ethnicity_group D</th>\n",
       "      <th>race_ethnicity_group E</th>\n",
       "      <th>lunch_standard</th>\n",
       "      <th>test_preparation_course_none</th>\n",
       "      <th>parental_level_of_education</th>\n",
       "    </tr>\n",
       "  </thead>\n",
       "  <tbody>\n",
       "    <tr>\n",
       "      <th>521</th>\n",
       "      <td>1.153370</td>\n",
       "      <td>1.049904</td>\n",
       "      <td>0.000000</td>\n",
       "      <td>0.000000</td>\n",
       "      <td>2.145513</td>\n",
       "      <td>0.000000</td>\n",
       "      <td>0.000000</td>\n",
       "      <td>2.089806</td>\n",
       "      <td>2.085888</td>\n",
       "      <td>2.055354</td>\n",
       "    </tr>\n",
       "    <tr>\n",
       "      <th>737</th>\n",
       "      <td>-0.217161</td>\n",
       "      <td>0.325651</td>\n",
       "      <td>0.000000</td>\n",
       "      <td>2.549064</td>\n",
       "      <td>0.000000</td>\n",
       "      <td>0.000000</td>\n",
       "      <td>0.000000</td>\n",
       "      <td>0.000000</td>\n",
       "      <td>0.000000</td>\n",
       "      <td>1.370236</td>\n",
       "    </tr>\n",
       "    <tr>\n",
       "      <th>740</th>\n",
       "      <td>0.262525</td>\n",
       "      <td>0.259809</td>\n",
       "      <td>2.001297</td>\n",
       "      <td>0.000000</td>\n",
       "      <td>0.000000</td>\n",
       "      <td>2.274161</td>\n",
       "      <td>0.000000</td>\n",
       "      <td>2.089806</td>\n",
       "      <td>2.085888</td>\n",
       "      <td>2.740472</td>\n",
       "    </tr>\n",
       "    <tr>\n",
       "      <th>660</th>\n",
       "      <td>0.536631</td>\n",
       "      <td>0.325651</td>\n",
       "      <td>2.001297</td>\n",
       "      <td>0.000000</td>\n",
       "      <td>2.145513</td>\n",
       "      <td>0.000000</td>\n",
       "      <td>0.000000</td>\n",
       "      <td>0.000000</td>\n",
       "      <td>2.085888</td>\n",
       "      <td>1.370236</td>\n",
       "    </tr>\n",
       "    <tr>\n",
       "      <th>411</th>\n",
       "      <td>0.947790</td>\n",
       "      <td>0.654857</td>\n",
       "      <td>2.001297</td>\n",
       "      <td>0.000000</td>\n",
       "      <td>0.000000</td>\n",
       "      <td>0.000000</td>\n",
       "      <td>2.881952</td>\n",
       "      <td>2.089806</td>\n",
       "      <td>0.000000</td>\n",
       "      <td>1.370236</td>\n",
       "    </tr>\n",
       "  </tbody>\n",
       "</table>\n",
       "</div>"
      ],
      "text/plain": [
       "     reading_score  writing_score  gender_male  race_ethnicity_group B  \\\n",
       "521       1.153370       1.049904     0.000000                0.000000   \n",
       "737      -0.217161       0.325651     0.000000                2.549064   \n",
       "740       0.262525       0.259809     2.001297                0.000000   \n",
       "660       0.536631       0.325651     2.001297                0.000000   \n",
       "411       0.947790       0.654857     2.001297                0.000000   \n",
       "\n",
       "     race_ethnicity_group C  race_ethnicity_group D  race_ethnicity_group E  \\\n",
       "521                2.145513                0.000000                0.000000   \n",
       "737                0.000000                0.000000                0.000000   \n",
       "740                0.000000                2.274161                0.000000   \n",
       "660                2.145513                0.000000                0.000000   \n",
       "411                0.000000                0.000000                2.881952   \n",
       "\n",
       "     lunch_standard  test_preparation_course_none  parental_level_of_education  \n",
       "521        2.089806                      2.085888                     2.055354  \n",
       "737        0.000000                      0.000000                     1.370236  \n",
       "740        2.089806                      2.085888                     2.740472  \n",
       "660        0.000000                      2.085888                     1.370236  \n",
       "411        2.089806                      0.000000                     1.370236  "
      ]
     },
     "execution_count": 179,
     "metadata": {},
     "output_type": "execute_result"
    }
   ],
   "source": [
    "X_test.head()"
   ]
  },
  {
   "cell_type": "code",
   "execution_count": 180,
   "id": "e1ca3e20-7b48-4128-ae81-4f29db6c5e07",
   "metadata": {},
   "outputs": [
    {
     "data": {
      "text/plain": [
       "29     62\n",
       "535    66\n",
       "695    79\n",
       "557    61\n",
       "836    73\n",
       "       ..\n",
       "106    87\n",
       "270    69\n",
       "860    53\n",
       "435    50\n",
       "102    85\n",
       "Name: math_score, Length: 800, dtype: int64"
      ]
     },
     "execution_count": 180,
     "metadata": {},
     "output_type": "execute_result"
    }
   ],
   "source": [
    "y_train"
   ]
  },
  {
   "cell_type": "code",
   "execution_count": 181,
   "id": "2dcfef88-f699-4142-85a0-b1812ea095f7",
   "metadata": {},
   "outputs": [
    {
     "data": {
      "text/plain": [
       "521    91\n",
       "737    53\n",
       "740    80\n",
       "660    74\n",
       "411    84\n",
       "       ..\n",
       "408    52\n",
       "332    62\n",
       "208    74\n",
       "613    65\n",
       "78     61\n",
       "Name: math_score, Length: 200, dtype: int64"
      ]
     },
     "execution_count": 181,
     "metadata": {},
     "output_type": "execute_result"
    }
   ],
   "source": [
    "y_test"
   ]
  },
  {
   "cell_type": "markdown",
   "id": "ade6144d",
   "metadata": {},
   "source": [
    "#### Set values for hyperparameter tuning "
   ]
  },
  {
   "cell_type": "code",
   "execution_count": 182,
   "id": "65b37d77-987c-416b-ac3a-a383fc772dca",
   "metadata": {},
   "outputs": [],
   "source": [
    "model_params ={\n",
    "    'LinearRegression':{\n",
    "        'model': LinearRegression(),\n",
    "        'params':{}\n",
    "    },\n",
    "    \n",
    "    'Lasso':{\n",
    "        'model': Lasso(),\n",
    "        'params':{\n",
    "            'alpha' : [0.1,1,10]\n",
    "        }\n",
    "    },\n",
    "    \n",
    "    'Ridge':{\n",
    "        'model': Ridge(),\n",
    "        'params': {\n",
    "            'alpha' : [0.1,1,10]\n",
    "        }\n",
    "    },\n",
    "    \n",
    "    'svm':{\n",
    "        'model': SVR(gamma='auto'),\n",
    "        'params': {\n",
    "            'C': [1,10,20],\n",
    "            'kernel': ['rbf','linear']\n",
    "        }\n",
    "    },\n",
    "\n",
    "    'DecisionTree':{\n",
    "        'model': DecisionTreeRegressor(),\n",
    "        'params': {\n",
    "            'criterion' : [\"squared_error\", \"absolute_error\"]\n",
    "        }\n",
    "    },\n",
    "\n",
    "    'RandomForest' : {\n",
    "        'model': RandomForestRegressor(),\n",
    "        'params' : {\n",
    "            'n_estimators' : [1,5,10]\n",
    "        }\n",
    "    },\n",
    "}"
   ]
  },
  {
   "cell_type": "markdown",
   "id": "f3c938f5",
   "metadata": {},
   "source": [
    "#### GridSearchCV"
   ]
  },
  {
   "cell_type": "code",
   "execution_count": 183,
   "id": "eac3d9ec",
   "metadata": {},
   "outputs": [],
   "source": [
    "scores = []\n",
    "\n",
    "for model_name, mp in model_params.items():\n",
    "    clf = GridSearchCV(mp['model'],mp['params'], cv =5, return_train_score = False)\n",
    "    clf.fit(X_train,y_train)\n",
    "    \n",
    "    mp['model'].set_params(**clf.best_params_)\n",
    "    mp['model'].fit(X_train, y_train)\n",
    "    \n",
    "    y_pred = mp['model'].predict(X_test)\n",
    "    r2_score_ = r2_score(y_test, y_pred)\n",
    "    \n",
    "    scores.append(\n",
    "        {\n",
    "            'model':model_name,\n",
    "            'best_score':clf.best_score_ * 100,\n",
    "            'best_params':clf.best_params_,\n",
    "            'r2_score' : r2_score_ * 100\n",
    "        }\n",
    "    )"
   ]
  },
  {
   "cell_type": "code",
   "execution_count": 184,
   "id": "12ed12bf",
   "metadata": {},
   "outputs": [
    {
     "data": {
      "text/html": [
       "<div>\n",
       "<style scoped>\n",
       "    .dataframe tbody tr th:only-of-type {\n",
       "        vertical-align: middle;\n",
       "    }\n",
       "\n",
       "    .dataframe tbody tr th {\n",
       "        vertical-align: top;\n",
       "    }\n",
       "\n",
       "    .dataframe thead th {\n",
       "        text-align: right;\n",
       "    }\n",
       "</style>\n",
       "<table border=\"1\" class=\"dataframe\">\n",
       "  <thead>\n",
       "    <tr style=\"text-align: right;\">\n",
       "      <th></th>\n",
       "      <th>model</th>\n",
       "      <th>best_score</th>\n",
       "      <th>best_params</th>\n",
       "      <th>r2_score</th>\n",
       "    </tr>\n",
       "  </thead>\n",
       "  <tbody>\n",
       "    <tr>\n",
       "      <th>0</th>\n",
       "      <td>LinearRegression</td>\n",
       "      <td>86.969670</td>\n",
       "      <td>{}</td>\n",
       "      <td>88.155977</td>\n",
       "    </tr>\n",
       "    <tr>\n",
       "      <th>1</th>\n",
       "      <td>Lasso</td>\n",
       "      <td>86.929610</td>\n",
       "      <td>{'alpha': 0.1}</td>\n",
       "      <td>88.242194</td>\n",
       "    </tr>\n",
       "    <tr>\n",
       "      <th>2</th>\n",
       "      <td>Ridge</td>\n",
       "      <td>86.969724</td>\n",
       "      <td>{'alpha': 0.1}</td>\n",
       "      <td>88.157211</td>\n",
       "    </tr>\n",
       "    <tr>\n",
       "      <th>3</th>\n",
       "      <td>svm</td>\n",
       "      <td>86.654586</td>\n",
       "      <td>{'C': 20, 'kernel': 'linear'}</td>\n",
       "      <td>88.194457</td>\n",
       "    </tr>\n",
       "    <tr>\n",
       "      <th>4</th>\n",
       "      <td>DecisionTree</td>\n",
       "      <td>69.376348</td>\n",
       "      <td>{'criterion': 'absolute_error'}</td>\n",
       "      <td>69.112972</td>\n",
       "    </tr>\n",
       "    <tr>\n",
       "      <th>5</th>\n",
       "      <td>RandomForest</td>\n",
       "      <td>82.128464</td>\n",
       "      <td>{'n_estimators': 10}</td>\n",
       "      <td>82.878904</td>\n",
       "    </tr>\n",
       "  </tbody>\n",
       "</table>\n",
       "</div>"
      ],
      "text/plain": [
       "              model  best_score                      best_params   r2_score\n",
       "0  LinearRegression   86.969670                               {}  88.155977\n",
       "1             Lasso   86.929610                   {'alpha': 0.1}  88.242194\n",
       "2             Ridge   86.969724                   {'alpha': 0.1}  88.157211\n",
       "3               svm   86.654586    {'C': 20, 'kernel': 'linear'}  88.194457\n",
       "4      DecisionTree   69.376348  {'criterion': 'absolute_error'}  69.112972\n",
       "5      RandomForest   82.128464             {'n_estimators': 10}  82.878904"
      ]
     },
     "execution_count": 184,
     "metadata": {},
     "output_type": "execute_result"
    }
   ],
   "source": [
    "scores_df = pd.DataFrame(scores)\n",
    "scores_df"
   ]
  },
  {
   "cell_type": "markdown",
   "id": "b097c160",
   "metadata": {},
   "source": [
    "#### Get best model parameters"
   ]
  },
  {
   "cell_type": "code",
   "execution_count": 185,
   "id": "60ce01a8",
   "metadata": {},
   "outputs": [
    {
     "name": "stdout",
     "output_type": "stream",
     "text": [
      "Lasso : Lasso(alpha=0.1) : 88.24219424593616\n"
     ]
    }
   ],
   "source": [
    "best_model_score = scores_df.sort_values(by='r2_score',axis=0,ascending=False).iloc[0,3]\n",
    "\n",
    "# To get best model name from dict\n",
    "best_model_name = scores_df.sort_values(by='r2_score',axis=0,ascending=False).iloc[0,0]\n",
    "\n",
    "best_model = model_params[best_model_name][\"model\"]\n",
    "\n",
    "print(f\"{best_model_name} : {best_model} : {best_model_score}\")"
   ]
  },
  {
   "cell_type": "markdown",
   "id": "ae526627",
   "metadata": {},
   "source": [
    "#### Predict for test & plotting graph"
   ]
  },
  {
   "cell_type": "code",
   "execution_count": 186,
   "id": "28da8391",
   "metadata": {},
   "outputs": [
    {
     "data": {
      "image/png": "[encoded data removed]",
      "text/plain": [
       "<Figure size 432x288 with 1 Axes>"
      ]
     },
     "metadata": {
      "needs_background": "light"
     },
     "output_type": "display_data"
    }
   ],
   "source": [
    "y_pred = best_model.predict(X_test)\n",
    "\n",
    "plt.figure(figsize=(6,4))\n",
    "sns.regplot(x=y_test,y=y_pred,color='green',ci=None)\n",
    "plt.xlabel('Actual Math Score')\n",
    "plt.ylabel('Predicted Math Score')\n",
    "plt.show()"
   ]
  },
  {
   "cell_type": "markdown",
   "id": "0d4b7466",
   "metadata": {},
   "source": [
    "## Conclusion:"
   ]
  },
  {
   "cell_type": "markdown",
   "id": "bf328118",
   "metadata": {},
   "source": [
    "```Lasso being the best model with hyperparameter tuning alpha = 0.1 with score 88.24219424593616.```\n",
    "\n",
    "```Train-Test-split = 80-20 & random state = 42```"
   ]
  }
 ],
 "metadata": {
  "kernelspec": {
   "display_name": "Python 3 (ipykernel)",
   "language": "python",
   "name": "python3"
  },
  "language_info": {
   "codemirror_mode": {
    "name": "ipython",
    "version": 3
   },
   "file_extension": ".py",
   "mimetype": "text/x-python",
   "name": "python",
   "nbconvert_exporter": "python",
   "pygments_lexer": "ipython3",
   "version": "3.9.12"
  }
 },
 "nbformat": 4,
 "nbformat_minor": 5
}
